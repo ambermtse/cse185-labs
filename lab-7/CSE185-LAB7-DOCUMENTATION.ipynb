{
 "cells": [
  {
   "attachments": {},
   "cell_type": "markdown",
   "id": "78936d81",
   "metadata": {},
   "source": [
    "# CSE185 Lab 7 Documentation - Phylogenetics and COVID-19\n"
   ]
  },
  {
   "cell_type": "code",
   "execution_count": 12,
   "id": "7f61a304",
   "metadata": {},
   "outputs": [],
   "source": [
    "## 1. Download each genome and put into one big fasta file\n",
    "\n",
    "cmd = \"\"\"\n",
    "cat ~/public/lab7/lab7_accessions.txt | while read line; do wget -O - \"https://eutils.ncbi.nlm.nih.gov/entrez/eutils/efetch.fcgi?db=nuccore&id=$line&rettype=fasta&retmode=text\" >> ~/lab7/lab7_virus_genomes.fa; done\n",
    "\"\"\"\n",
    "## 2 Install mafft and run command on combined genome fasta file\n",
    "\n",
    "cmd = \"\"\"\n",
    "tar xfvz mafft-7.525-with-extensions-src.tgz\n",
    "\n",
    "cd mafft-7.525-with-extensions/core/\n",
    "vi Makefile\n",
    "\n",
    "make clean\n",
    "make\n",
    "make install\n",
    "\n",
    "export PATH=$PATH:$HOME/local/bin\n",
    "\n",
    "\"\"\" # in vi for Makefile, change PREFIX=$(HOME)/local and BINDIR=$(HOME)/local/bin\n",
    "\n",
    "# run mafft on virus genomes file\n",
    "cmd = \"\"\"\n",
    "mafft\n",
    "lab7_virus_genomes.fa\n",
    "lab7_virus_genomes.aln\n",
    "5 #phylip format output option\n",
    "1 #--auto option\n",
    "\"\"\"\n",
    "\n",
    "\n",
    "## 3 Install RaxML and run RaxML to build a tree\n",
    "\n",
    "cmd=\"\"\"\n",
    "make -f Makefile.SSE3.PTHREADS.gcc\n",
    "rm *.o\n",
    "\"\"\"\n",
    "\n",
    "#run RaxML on mafft alignment file using a general time-reversible model (GTRCAT).\n",
    "\n",
    "cmd=\"\"\"\n",
    "raxml -m GTRCAT -p 12345 -# 20 -s lab7_virus_genomes.aln -n virus_genomes_tree -T 8\n",
    "\"\"\" # find maximum likelihood tree\n",
    "\n",
    "cmd=\"\"\"\n",
    "raxml -m GTRCAT -p 12345 -b 12345 -# 100 -s lab7_virus_genomes.aln -n virus_genomes_bootstraps -T 8\n",
    "\"\"\" # perform bootstrap search with 100 bootstraps\n",
    "\n",
    "cmd=\"\"\"\n",
    "raxml -m GTRCAT -p 12345 -f b -t RAxML_bestTree.virus_genomes_tree -z RAxML_bootstrap.virus_genomes_bootstraps -n lab7_raxml_bs -T 8\n",
    "\"\"\" #draw bipartitions on best tree with boostrap values\n",
    "\n",
    "## 4 Use iTOL to visualize phylogentic tree with newick file from RaxML bipartitions file\n",
    "\n",
    "url=\"\"\"\n",
    "https://itol.embl.de/upload.cgi\n",
    "\"\"\"\n"
   ]
  }
 ],
 "metadata": {
  "kernelspec": {
   "display_name": "lign167",
   "language": "python",
   "name": "python3"
  },
  "language_info": {
   "codemirror_mode": {
    "name": "ipython",
    "version": 3
   },
   "file_extension": ".py",
   "mimetype": "text/x-python",
   "name": "python",
   "nbconvert_exporter": "python",
   "pygments_lexer": "ipython3",
   "version": "3.8.20 (default, Oct  3 2024, 10:22:23) \n[Clang 14.0.6 ]"
  },
  "vscode": {
   "interpreter": {
    "hash": "77732660fa7b70a4f9fb75b9e2a240aac071fa0284cf215bec76f8656314bbca"
   }
  }
 },
 "nbformat": 4,
 "nbformat_minor": 5
}
